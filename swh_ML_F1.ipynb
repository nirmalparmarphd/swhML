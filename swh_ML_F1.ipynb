{
 "cells": [
  {
   "cell_type": "code",
   "execution_count": null,
   "metadata": {},
   "outputs": [],
   "source": [
    "import pandas as pd\n",
    "from sklearn.model_selection import train_test_split\n",
    "\n",
    "pd.set_option('display.max_columns', 100)"
   ]
  },
  {
   "cell_type": "code",
   "execution_count": null,
   "metadata": {},
   "outputs": [],
   "source": [
    "#loading data\n",
    "def load_data():\n",
    "    df_raw = pd.read_csv('data/Thermosyphone_mode_60_degree.csv', delimiter=';')\n",
    "    df_raw = df_raw.drop(df_raw.index[0], inplace=True)\n",
    "    return df_raw\n",
    "\n",
    "def drop_cols(df:pd.DataFrame):\n",
    "    df.drop(columns=['mode', 'effi_thermosy', 'effi_forced', 'C', 'f', 'ha', 'v', 'Kb', 'Xb', 'Ae', 'Ac',\n",
    "       'beta [degree]', 'N', 'Tau', 'alpha','Ub [W/m2 K]', 'Ue [W/m2 K]', 'Fr', 'effi_thermosy',\n",
    "       'effi_forced','Ta [K] ', 'Tin [K]', 'Tout [K]', 'Tplate [K]'], inplace=True)\n",
    "    return df\n",
    "\n",
    "def datetime_col(df:pd.DataFrame):\n",
    "    df['TIME'] = pd.to_datetime(df['time'])\n",
    "    # df = df.set_index(df['TIME'])\n",
    "    df.drop(columns=['time'], inplace=True)\n",
    "    return df\n",
    "\n",
    "def liter_col(df:pd.DataFrame):\n",
    "    time_interval = 10 * 60 # seconds\n",
    "    df['l/sec'] = df['m_dot [kg/sec]']\n",
    "    df['l_out'] = df['l/sec'] * (time_interval)\n",
    "    df['l_out_cumsum'] = df['l_out'].cumsum()\n",
    "    return df\n",
    "\n",
    "\n",
    "def pred_col_Tout(df:pd.DataFrame):\n",
    "    # T_out = df.pop('Tout [C]')\n",
    "    # l_out = df.pop('l_out_cumsum')\n",
    "    df.drop(columns=['l_out', 'l/sec', 'l_out_cumsum'], inplace=True)\n",
    "    return df\n",
    "\n",
    "# def feature_prep_temp(df:pd.DataFrame):\n",
    "#     df['y'] = df['Tout [C]']\n",
    "#     df['ds'] = df['TIME']\n",
    "#     df['unique_id'] = df['mode']\n",
    "#     df.drop(columns=['Tout [C]', 'TIME', 'mode'], inplace=True)\n",
    "#     x_df = df[['I [W/m2]', 'm_dot [kg/sec]', 'Cp', 'Ta [C]', 'Tin [C]', 'Tplate [C] ', 'Ttank  [C] ', 'Pin [Kpa]', 'Pout  [Kpa]']]\n",
    "#     df = df[['ds', 'y', 'unique_id']]\n",
    "#     return df, x_df\n",
    "\n",
    "def xy_split(df:pd.DataFrame):\n",
    "    y_true = df.pop('Tout [C]')\n",
    "    # df.drop(columns='TIME', inplace=True)\n",
    "    return df, y_true\n",
    "\n",
    "def train_test_splitter(x:pd.DataFrame, y:pd.DataFrame):\n",
    "    x_train, x_test, y_train, y_test = train_test_split(x,y,test_size=0.25, random_state=42)\n",
    "    return x_train, x_test, y_train, y_test\n",
    "\n",
    "def data_pipeline():\n",
    "    df_raw = load_data()\n",
    "    df = drop_cols(df_raw)\n",
    "    df = datetime_col(df)\n",
    "    df = liter_col(df)  # with all features\n",
    "    return df\n",
    "\n",
    "def data_pipeline_temp():\n",
    "    df = data_pipeline()\n",
    "    df_t = pred_col_Tout(df)\n",
    "    x, y = xy_split(df_t)\n",
    "    x_train, x_test, y_train, y_test = train_test_splitter(x, y)\n",
    "    return x_train, x_test, y_train, y_test, df\n",
    "\n"
   ]
  },
  {
   "cell_type": "code",
   "execution_count": null,
   "metadata": {},
   "outputs": [],
   "source": [
    "df_raw = load_data()\n",
    "df = drop_cols(df_raw)\n",
    "df = datetime_col(df)\n",
    "df = liter_col(df)\n",
    "df_f = df.copy()\n",
    "df_ml_T = pred_col_Tout(df_f)\n",
    "x, y = xy_split(df_ml_T)"
   ]
  },
  {
   "cell_type": "code",
   "execution_count": null,
   "metadata": {},
   "outputs": [],
   "source": [
    "display(df)"
   ]
  },
  {
   "cell_type": "code",
   "execution_count": null,
   "metadata": {},
   "outputs": [],
   "source": [
    "import matplotlib.pyplot as plt\n",
    "\n",
    "plt.figure(figsize=(15,5))\n",
    "plt.scatter(x=df['TIME'], y=df['m_dot [kg/sec]'], label ='Mass Flow Rate [kg/s]')\n",
    "plt.xlabel('Time')\n",
    "plt.ylabel('Mass flow rate [kg/s]')\n",
    "plt.legend()\n",
    "plt.show()"
   ]
  },
  {
   "cell_type": "code",
   "execution_count": null,
   "metadata": {},
   "outputs": [],
   "source": [
    "plt.figure(figsize=(15,5))\n",
    "plt.scatter(x=df['TIME'], y=df['l_out'], label ='Flow Out [L]')\n",
    "plt.scatter(x=df['TIME'], y=df['l_out_cumsum'], label ='Flow Out [L cumsum]')\n",
    "plt.xlabel('Time')\n",
    "plt.ylabel('Flow Out [L cumsum]')\n",
    "plt.legend()\n",
    "plt.show()"
   ]
  },
  {
   "cell_type": "code",
   "execution_count": null,
   "metadata": {},
   "outputs": [],
   "source": [
    "plt.figure(figsize=(15,5))\n",
    "plt.scatter(x=df['TIME'], y=df['Tin [C]'], label ='T-in [C]')\n",
    "plt.scatter(x=df['TIME'], y=df['Tout [C]'], label ='T-out [C]', c='k')\n",
    "plt.scatter(x=df['TIME'], y=df['Ta [C]'], label ='T-a [C]')\n",
    "plt.scatter(x=df['TIME'], y=df['Tplate [C] '], label ='T-plate [C]')\n",
    "plt.scatter(x=df['TIME'], y=df['Ttank  [C] '], label ='T-tank [C]')\n",
    "plt.xlabel('Time')\n",
    "plt.ylabel('Temperature [C]')\n",
    "plt.legend()\n",
    "plt.show()"
   ]
  },
  {
   "cell_type": "code",
   "execution_count": null,
   "metadata": {},
   "outputs": [],
   "source": [
    "# checking corelation of T-out with other params\n",
    "T_out = df['Tout [C]']\n",
    "df_corr_t = df.corrwith(T_out)\n",
    "print(df_corr_t.sort_values(ascending=False))"
   ]
  },
  {
   "cell_type": "code",
   "execution_count": null,
   "metadata": {},
   "outputs": [],
   "source": [
    "# checking corelation of Water-out with other params\n",
    "water_out = df['l_out_cumsum']\n",
    "df_corr_w = df.corrwith(water_out)\n",
    "print(df_corr_w.sort_values(ascending=False))"
   ]
  },
  {
   "cell_type": "code",
   "execution_count": null,
   "metadata": {},
   "outputs": [],
   "source": [
    "import matplotlib.pyplot as plt\n",
    "\n",
    "fig, ax1 = plt.subplots(figsize=(15,6))  # Creating the figure and the first axis (left y-axis)\n",
    "\n",
    "# Scatter plot on the left y-axis\n",
    "ax1.scatter(x=df['TIME'], y=df['Tin [C]'], label ='T-in [C]')\n",
    "ax1.scatter(x=df['TIME'], y=df['Tout [C]'], label ='T-out [C]', c='k')\n",
    "ax1.scatter(x=df['TIME'], y=df['Ta [C]'], label ='T-a [C]')\n",
    "ax1.scatter(x=df['TIME'], y=df['Tplate [C] '], label ='T-plate [C]')\n",
    "ax1.scatter(x=df['TIME'], y=df['Ttank  [C] '], label ='T-tank [C]')\n",
    "ax1.set_xlabel('Time')\n",
    "ax1.set_ylabel('Temperature [C]', color='red')\n",
    "ax1.legend(loc='right')\n",
    "\n",
    "# Creating the second axis (right y-axis)\n",
    "ax2 = ax1.twinx()\n",
    "\n",
    "# Scatter plot on the right y-axis\n",
    "ax2.scatter(x=df['TIME'], y=df['l_out'],marker= 'x', label ='Flow Out [L]')\n",
    "ax2.scatter(x=df['TIME'], y=df['l_out_cumsum'],marker='x', label ='Flow Out [L cumsum]')\n",
    "ax2.set_ylabel('Water outlet [L]', color='blue')\n",
    "# ax2.legend(loc='upper right')\n",
    "\n",
    "plt.legend()\n",
    "plt.show()\n"
   ]
  },
  {
   "cell_type": "markdown",
   "metadata": {},
   "source": [
    "ML model - 1 training"
   ]
  },
  {
   "cell_type": "code",
   "execution_count": null,
   "metadata": {},
   "outputs": [],
   "source": [
    "x_train_, x_test_, y_train, y_test, df_ml = data_pipeline_temp()"
   ]
  },
  {
   "cell_type": "code",
   "execution_count": null,
   "metadata": {},
   "outputs": [],
   "source": [
    "from sklearn.ensemble import RandomForestRegressor, AdaBoostRegressor\n",
    "import xgboost as xgb\n",
    "from sklearn.base import RegressorMixin\n",
    "from sklearn.metrics import mean_squared_error\n",
    "import numpy as np"
   ]
  },
  {
   "cell_type": "code",
   "execution_count": null,
   "metadata": {},
   "outputs": [],
   "source": [
    "display(x_train_.head())"
   ]
  },
  {
   "cell_type": "code",
   "execution_count": null,
   "metadata": {},
   "outputs": [],
   "source": [
    "x_train = x_train_.drop(columns='TIME')\n",
    "x_test = x_test_.drop(columns='TIME')"
   ]
  },
  {
   "cell_type": "code",
   "execution_count": null,
   "metadata": {},
   "outputs": [],
   "source": [
    "model_rfr = RandomForestRegressor() # bagging - to reduce variance\n",
    "model_abr = AdaBoostRegressor() # boosting - to reduce ba"
   ]
  },
  {
   "cell_type": "code",
   "execution_count": null,
   "metadata": {},
   "outputs": [],
   "source": [
    "def model_trianing(x_train:pd.DataFrame, y_train:pd.Series, model):\n",
    "    model.fit(x_train, y_train)\n",
    "    return model\n",
    "\n",
    "def temp_prediction(x_test:pd.DataFrame, model):\n",
    "    y_pred = model.predict(x_test)\n",
    "    return y_pred\n",
    "\n",
    "def model_evaluation(y_test:pd.Series, y_pred:pd.Series):\n",
    "    accuracy = mean_squared_error(y_pred=y_pred, y_true=y_test)\n",
    "    accuracy = np.sqrt(accuracy)\n",
    "    print(f'accuracy of the model RMSE: {accuracy}')\n",
    "    return accuracy\n"
   ]
  },
  {
   "cell_type": "code",
   "execution_count": null,
   "metadata": {},
   "outputs": [],
   "source": [
    "# predicting temperature out RFR\n",
    "model_rfr_trained = model_trianing(x_train=x_train, y_train=y_train, model=model_rfr)\n",
    "y_pred_rfr = temp_prediction(x_test=x_test, model=model_rfr_trained)\n",
    "accuracy_rfr = model_evaluation(y_pred=y_pred_rfr, y_test=y_test)\n"
   ]
  },
  {
   "cell_type": "code",
   "execution_count": null,
   "metadata": {},
   "outputs": [],
   "source": [
    "# predicting temperature out ABR\n",
    "model_abr_trained = model_trianing(x_train=x_train, y_train=y_train, model=model_abr)\n",
    "y_pred_abr = temp_prediction(x_test=x_test, model=model_abr_trained)\n",
    "accuracy_abr = model_evaluation(y_pred=y_pred_abr, y_test=y_test)"
   ]
  },
  {
   "cell_type": "code",
   "execution_count": null,
   "metadata": {},
   "outputs": [],
   "source": [
    "plt.figure(figsize=(15,6))\n",
    "\n",
    "data = data_pipeline()\n",
    "plt.scatter(data['TIME'], data['Tout [C]'], label='Target T-out [C]')\n",
    "plt.scatter(x_test_['TIME'], y_pred_rfr,marker='x', label='Predicted-RFR T-out [C]')\n",
    "plt.scatter(x_test_['TIME'], y_pred_abr,marker='*', label='Predicted-ABR T-out [C]')\n",
    "\n",
    "plt.xlabel('Time')\n",
    "plt.ylabel('Temperature [C]')\n",
    "plt.legend()\n",
    "plt.show()"
   ]
  },
  {
   "cell_type": "markdown",
   "metadata": {},
   "source": [
    "ML model 2 training (selecting adaboostregressor)"
   ]
  },
  {
   "cell_type": "code",
   "execution_count": null,
   "metadata": {},
   "outputs": [],
   "source": [
    "x_ = x.drop(columns='TIME')\n",
    "display(x_.head())"
   ]
  },
  {
   "cell_type": "code",
   "execution_count": null,
   "metadata": {},
   "outputs": [],
   "source": [
    "y_pred_abr_ = temp_prediction(x_, model=model_abr)"
   ]
  },
  {
   "cell_type": "code",
   "execution_count": null,
   "metadata": {},
   "outputs": [],
   "source": [
    "plt.figure(figsize=(15,6))\n",
    "\n",
    "data = data_pipeline()\n",
    "plt.scatter(data['TIME'], data['Tout [C]'], label='Target T-out [C]')\n",
    "plt.scatter(x_test_['TIME'], y_pred_rfr,marker='x', label='Predicted-RFR T-out [C]')\n",
    "plt.scatter(x_test_['TIME'], y_pred_abr,marker='*', label='Predicted-ABR T-out [C]')\n",
    "plt.scatter(x['TIME'], y_pred_abr_, marker='s',s= 12, label='Predicted-ABR-ALL T-out [C]')\n",
    "\n",
    "plt.xlabel('Time')\n",
    "plt.ylabel('Temperature [C]')\n",
    "plt.legend()\n",
    "plt.show()"
   ]
  },
  {
   "cell_type": "code",
   "execution_count": null,
   "metadata": {},
   "outputs": [],
   "source": [
    "# new features including prediction\n",
    "df.drop(columns=['Tout [C]','l/sec', 'l_out'], inplace=True)\n",
    "x_temp_pred = pd.concat([df, pd.DataFrame(y_pred_abr_)], axis=1)\n",
    "display(x_temp_pred.head())"
   ]
  },
  {
   "cell_type": "code",
   "execution_count": null,
   "metadata": {},
   "outputs": [],
   "source": [
    "cols = ['I [W/m2]', 'm_dot [kg/sec]','Cp','Ta [C]','Tin [C]','Tplate [C] ', 'Ttank  [C] ', 'Pin [Kpa]','Pout  [Kpa]','TIME',  'l_out_cumsum','Tout_pred']\n",
    "\n",
    "x_temp_pred.columns = cols\n",
    "x_temp_pred.head()"
   ]
  },
  {
   "cell_type": "code",
   "execution_count": null,
   "metadata": {},
   "outputs": [],
   "source": [
    "x_temp_pred_features = x_temp_pred.drop(columns='TIME')\n",
    "\n",
    "x_temp_pred_features.dropna(axis=0, inplace=True)"
   ]
  },
  {
   "cell_type": "code",
   "execution_count": null,
   "metadata": {},
   "outputs": [],
   "source": [
    "y_water = x_temp_pred_features.pop('l_out_cumsum')"
   ]
  },
  {
   "cell_type": "code",
   "execution_count": null,
   "metadata": {},
   "outputs": [],
   "source": [
    "x_train_w, x_test_w, y_train_w, y_test_w = train_test_split(x_temp_pred_features, y_water, test_size=0.25, random_state=42)"
   ]
  },
  {
   "cell_type": "code",
   "execution_count": null,
   "metadata": {},
   "outputs": [],
   "source": [
    "# predicting water out - ABR\n",
    "model_abr_trained_water_out = model_trianing(x_train=x_train_w, y_train=y_train_w, model=model_abr)\n",
    "y_pred_abr_water_out = temp_prediction(x_test=x_test_w, model=model_abr_trained_water_out)\n",
    "accuracy_abr_water_out = model_evaluation(y_pred=y_pred_abr_water_out, y_test=y_test_w)\n"
   ]
  },
  {
   "cell_type": "code",
   "execution_count": null,
   "metadata": {},
   "outputs": [],
   "source": [
    "# predicting water out - RFR\n",
    "model_rfr_trained_water_out = model_trianing(x_train=x_train_w, y_train=y_train_w, model=model_rfr)\n",
    "y_pred_rfr_water_out = temp_prediction(x_test=x_test_w, model=model_rfr_trained_water_out)\n",
    "accuracy_rfr_water_out = model_evaluation(y_pred=y_pred_rfr_water_out, y_test=y_test_w)"
   ]
  },
  {
   "cell_type": "code",
   "execution_count": null,
   "metadata": {},
   "outputs": [],
   "source": [
    "x_temp_pred.dropna(axis=0, inplace=True)\n",
    "x_train_w_, x_test_w_, y_train_w_, y_test_w_ = train_test_split(x_temp_pred, y_water, test_size=0.25, random_state=42)"
   ]
  },
  {
   "cell_type": "code",
   "execution_count": null,
   "metadata": {},
   "outputs": [],
   "source": [
    "plt.figure(figsize=(15,5))\n",
    "plt.scatter(x=x_temp_pred['TIME'], y=x_temp_pred['l_out_cumsum'], label ='Flow Out [L]')\n",
    "plt.scatter(x=x_test_w_['TIME'], y=y_pred_abr_water_out, label ='Predicted-ABR Flow Out [L cumsum]')\n",
    "plt.scatter(x=x_test_w_['TIME'], y=y_pred_rfr_water_out, label ='Predicted-RFR Flow Out [L cumsum]')\n",
    "plt.xlabel('Time')\n",
    "plt.ylabel('Flow out [L cumsum]')\n",
    "plt.legend()\n",
    "plt.show()"
   ]
  },
  {
   "cell_type": "code",
   "execution_count": null,
   "metadata": {},
   "outputs": [],
   "source": []
  }
 ],
 "metadata": {
  "kernelspec": {
   "display_name": ".venv",
   "language": "python",
   "name": "python3"
  },
  "language_info": {
   "codemirror_mode": {
    "name": "ipython",
    "version": 3
   },
   "file_extension": ".py",
   "mimetype": "text/x-python",
   "name": "python",
   "nbconvert_exporter": "python",
   "pygments_lexer": "ipython3",
   "version": "3.11.2"
  }
 },
 "nbformat": 4,
 "nbformat_minor": 2
}
