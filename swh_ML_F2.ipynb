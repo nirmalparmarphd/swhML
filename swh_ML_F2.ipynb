{
 "cells": [
  {
   "cell_type": "code",
   "execution_count": 1,
   "metadata": {},
   "outputs": [
    {
     "name": "stdout",
     "output_type": "stream",
     "text": [
      "\u001b[?25l\u001b[2;36mFound existing ZenML repository at path \u001b[0m\n",
      "\u001b[2;32m'/Users/nirmal/Documents/np_dsci_codes/swh_ML'\u001b[0m\u001b[2;36m.\u001b[0m\n",
      "\u001b[2;32m⠋\u001b[0m\u001b[2;36m Initializing ZenML repository at /Users/nirmal/Documents/np_dsci_codes/swh_ML.\u001b[0m\n",
      "\u001b[2K\u001b[1A\u001b[2K\u001b[32m⠋\u001b[0m Initializing ZenML repository at /Users/nirmal/Documents/np_dsci_codes/swh_ML.\n",
      "\n",
      "\u001b[1A\u001b[2K\u001b[1A\u001b[2K\u001b[?25l\u001b[2;36mActive repository stack set to: \u001b[0m\u001b[2;32m'default'\u001b[0m\n",
      "\u001b[2K\u001b[32m⠋\u001b[0m Setting the repository active stack to 'default'...t'...\u001b[0m\n",
      "\u001b[1A\u001b[2K"
     ]
    }
   ],
   "source": [
    "!zenml init\n",
    "!zenml stack set default"
   ]
  },
  {
   "cell_type": "code",
   "execution_count": 2,
   "metadata": {},
   "outputs": [],
   "source": [
    "# !zenml down\n",
    "# !zenml up"
   ]
  },
  {
   "cell_type": "code",
   "execution_count": 1,
   "metadata": {},
   "outputs": [],
   "source": [
    "from pipelines import pipeline_data_etl, feature_engineering_Temp, model_training_Temp, main_pipeline, feature_engineering_Wout\n",
    "\n",
    "# pipeline_data_etl()"
   ]
  },
  {
   "cell_type": "code",
   "execution_count": 2,
   "metadata": {},
   "outputs": [
    {
     "name": "stdout",
     "output_type": "stream",
     "text": [
      "\u001b[1;35mInitiating a new run for the pipeline: \u001b[0m\u001b[1;36mSWH Cascade ML Pipeline\u001b[1;35m.\u001b[0m\n",
      "\u001b[1;35mRegistered new version: \u001b[0m\u001b[1;36m(version 3)\u001b[1;35m.\u001b[0m\n",
      "\u001b[1;35mExecuting a new run.\u001b[0m\n",
      "\u001b[1;35mCaching is disabled by default for \u001b[0m\u001b[1;36mSWH Cascade ML Pipeline\u001b[1;35m.\u001b[0m\n",
      "\u001b[1;35mUsing user: \u001b[0m\u001b[1;36mdefault\u001b[1;35m\u001b[0m\n",
      "\u001b[1;35mUsing stack: \u001b[0m\u001b[1;36mdefault\u001b[1;35m\u001b[0m\n",
      "\u001b[1;35m  artifact_store: \u001b[0m\u001b[1;36mdefault\u001b[1;35m\u001b[0m\n",
      "\u001b[1;35m  orchestrator: \u001b[0m\u001b[1;36mdefault\u001b[1;35m\u001b[0m\n",
      "\u001b[1;35mYou can visualize your pipeline runs in the \u001b[0m\u001b[1;36mZenML Dashboard\u001b[1;35m. In order to try it locally, please run \u001b[0m\u001b[1;36mzenml up\u001b[1;35m.\u001b[0m\n",
      "\u001b[1;35mStep \u001b[0m\u001b[1;36mload_data\u001b[1;35m has started.\u001b[0m\n",
      "\u001b[1;35mStep \u001b[0m\u001b[1;36mload_data\u001b[1;35m has finished in \u001b[0m\u001b[1;36m0.348s\u001b[1;35m.\u001b[0m\n",
      "\u001b[1;35mStep \u001b[0m\u001b[1;36mmodel_selection_Temp\u001b[1;35m has started.\u001b[0m\n",
      "\u001b[1;35mStep \u001b[0m\u001b[1;36mmodel_selection_Temp\u001b[1;35m has finished in \u001b[0m\u001b[1;36m0.150s\u001b[1;35m.\u001b[0m\n",
      "\u001b[1;35mStep \u001b[0m\u001b[1;36mmodel_selection_Temp_2\u001b[1;35m has started.\u001b[0m\n",
      "\u001b[1;35mStep \u001b[0m\u001b[1;36mmodel_selection_Temp_2\u001b[1;35m has finished in \u001b[0m\u001b[1;36m0.163s\u001b[1;35m.\u001b[0m\n",
      "\u001b[1;35mStep \u001b[0m\u001b[1;36mmodel_selection_Temp_3\u001b[1;35m has started.\u001b[0m\n",
      "\u001b[1;35mStep \u001b[0m\u001b[1;36mmodel_selection_Temp_3\u001b[1;35m has finished in \u001b[0m\u001b[1;36m0.150s\u001b[1;35m.\u001b[0m\n",
      "\u001b[1;35mStep \u001b[0m\u001b[1;36mmodel_selection_Temp_4\u001b[1;35m has started.\u001b[0m\n",
      "\u001b[1;35mStep \u001b[0m\u001b[1;36mmodel_selection_Temp_4\u001b[1;35m has finished in \u001b[0m\u001b[1;36m0.145s\u001b[1;35m.\u001b[0m\n",
      "\u001b[1;35mStep \u001b[0m\u001b[1;36mdrop_cols\u001b[1;35m has started.\u001b[0m\n",
      "\u001b[1;35mStep \u001b[0m\u001b[1;36mdrop_cols\u001b[1;35m has finished in \u001b[0m\u001b[1;36m0.179s\u001b[1;35m.\u001b[0m\n",
      "\u001b[1;35mStep \u001b[0m\u001b[1;36mdatetime_col\u001b[1;35m has started.\u001b[0m\n",
      "/Users/nirmal/Documents/np_dsci_codes/swh_ML/steps.py:28: UserWarning: Could not infer format, so each element will be parsed individually, falling back to `dateutil`. To ensure parsing is consistent and as-expected, please specify a format.\n",
      "  df['TIME'] = pd.to_datetime(df['time'])\n",
      "\u001b[1;35mStep \u001b[0m\u001b[1;36mdatetime_col\u001b[1;35m has finished in \u001b[0m\u001b[1;36m0.170s\u001b[1;35m.\u001b[0m\n",
      "\u001b[1;35mStep \u001b[0m\u001b[1;36mliter_col\u001b[1;35m has started.\u001b[0m\n",
      "\u001b[1;35mStep \u001b[0m\u001b[1;36mliter_col\u001b[1;35m has finished in \u001b[0m\u001b[1;36m0.168s\u001b[1;35m.\u001b[0m\n",
      "\u001b[1;35mStep \u001b[0m\u001b[1;36mpred_col_Tout\u001b[1;35m has started.\u001b[0m\n",
      "\u001b[1;35mStep \u001b[0m\u001b[1;36mpred_col_Tout\u001b[1;35m has finished in \u001b[0m\u001b[1;36m0.166s\u001b[1;35m.\u001b[0m\n",
      "\u001b[1;35mStep \u001b[0m\u001b[1;36mxy_split\u001b[1;35m has started.\u001b[0m\n",
      "\u001b[1;35mStep \u001b[0m\u001b[1;36mxy_split\u001b[1;35m has finished in \u001b[0m\u001b[1;36m0.310s\u001b[1;35m.\u001b[0m\n",
      "\u001b[1;35mStep \u001b[0m\u001b[1;36mtrain_test_splitter\u001b[1;35m has started.\u001b[0m\n",
      "\u001b[1;35mStep \u001b[0m\u001b[1;36mtrain_test_splitter\u001b[1;35m has finished in \u001b[0m\u001b[1;36m0.603s\u001b[1;35m.\u001b[0m\n",
      "\u001b[1;35mStep \u001b[0m\u001b[1;36mmodel_training\u001b[1;35m has started.\u001b[0m\n",
      "\u001b[1;35mStep \u001b[0m\u001b[1;36mmodel_training\u001b[1;35m has finished in \u001b[0m\u001b[1;36m0.280s\u001b[1;35m.\u001b[0m\n",
      "\u001b[1;35mStep \u001b[0m\u001b[1;36mmodel_training_2\u001b[1;35m has started.\u001b[0m\n",
      "\u001b[1;35mStep \u001b[0m\u001b[1;36mmodel_training_2\u001b[1;35m has finished in \u001b[0m\u001b[1;36m0.174s\u001b[1;35m.\u001b[0m\n",
      "\u001b[1;35mStep \u001b[0m\u001b[1;36mmodel_prediction\u001b[1;35m has started.\u001b[0m\n",
      "\u001b[1;35mStep \u001b[0m\u001b[1;36mmodel_prediction\u001b[1;35m has finished in \u001b[0m\u001b[1;36m0.162s\u001b[1;35m.\u001b[0m\n",
      "\u001b[1;35mStep \u001b[0m\u001b[1;36mmodel_prediction_2\u001b[1;35m has started.\u001b[0m\n",
      "\u001b[1;35mStep \u001b[0m\u001b[1;36mmodel_prediction_2\u001b[1;35m has finished in \u001b[0m\u001b[1;36m0.163s\u001b[1;35m.\u001b[0m\n",
      "\u001b[1;35mStep \u001b[0m\u001b[1;36mmodel_evaluation\u001b[1;35m has started.\u001b[0m\n",
      "RMSE: 1.6447417999999794\n",
      "\u001b[1;35mStep \u001b[0m\u001b[1;36mmodel_evaluation\u001b[1;35m has finished in \u001b[0m\u001b[1;36m0.158s\u001b[1;35m.\u001b[0m\n",
      "\u001b[1;35mStep \u001b[0m\u001b[1;36mmodel_evaluation_2\u001b[1;35m has started.\u001b[0m\n",
      "RMSE: 1.553487777777782\n",
      "\u001b[1;35mStep \u001b[0m\u001b[1;36mmodel_evaluation_2\u001b[1;35m has finished in \u001b[0m\u001b[1;36m0.155s\u001b[1;35m.\u001b[0m\n",
      "\u001b[1;35mStep \u001b[0m\u001b[1;36mbest_model\u001b[1;35m has started.\u001b[0m\n",
      "\u001b[1;35mStep \u001b[0m\u001b[1;36mbest_model\u001b[1;35m has finished in \u001b[0m\u001b[1;36m0.150s\u001b[1;35m.\u001b[0m\n",
      "\u001b[1;35mStep \u001b[0m\u001b[1;36mmodel_prediction_3\u001b[1;35m has started.\u001b[0m\n",
      "\u001b[1;35mStep \u001b[0m\u001b[1;36mmodel_prediction_3\u001b[1;35m has finished in \u001b[0m\u001b[1;36m0.157s\u001b[1;35m.\u001b[0m\n",
      "\u001b[1;35mStep \u001b[0m\u001b[1;36mdata_concat\u001b[1;35m has started.\u001b[0m\n",
      "\u001b[1;35mStep \u001b[0m\u001b[1;36mdata_concat\u001b[1;35m has finished in \u001b[0m\u001b[1;36m0.168s\u001b[1;35m.\u001b[0m\n",
      "\u001b[1;35mStep \u001b[0m\u001b[1;36mtrain_test_splitter_2\u001b[1;35m has started.\u001b[0m\n",
      "\u001b[1;35mStep \u001b[0m\u001b[1;36mtrain_test_splitter_2\u001b[1;35m has finished in \u001b[0m\u001b[1;36m0.618s\u001b[1;35m.\u001b[0m\n",
      "\u001b[1;35mStep \u001b[0m\u001b[1;36mmodel_training_3\u001b[1;35m has started.\u001b[0m\n",
      "\u001b[1;35mStep \u001b[0m\u001b[1;36mmodel_training_3\u001b[1;35m has finished in \u001b[0m\u001b[1;36m0.189s\u001b[1;35m.\u001b[0m\n",
      "\u001b[1;35mStep \u001b[0m\u001b[1;36mmodel_training_4\u001b[1;35m has started.\u001b[0m\n",
      "\u001b[1;35mStep \u001b[0m\u001b[1;36mmodel_training_4\u001b[1;35m has finished in \u001b[0m\u001b[1;36m0.170s\u001b[1;35m.\u001b[0m\n",
      "\u001b[1;35mStep \u001b[0m\u001b[1;36mmodel_prediction_4\u001b[1;35m has started.\u001b[0m\n",
      "\u001b[1;35mStep \u001b[0m\u001b[1;36mmodel_prediction_4\u001b[1;35m has finished in \u001b[0m\u001b[1;36m0.161s\u001b[1;35m.\u001b[0m\n",
      "\u001b[1;35mStep \u001b[0m\u001b[1;36mmodel_prediction_5\u001b[1;35m has started.\u001b[0m\n",
      "\u001b[1;35mStep \u001b[0m\u001b[1;36mmodel_prediction_5\u001b[1;35m has finished in \u001b[0m\u001b[1;36m0.161s\u001b[1;35m.\u001b[0m\n",
      "\u001b[1;35mStep \u001b[0m\u001b[1;36mmodel_evaluation_3\u001b[1;35m has started.\u001b[0m\n",
      "RMSE: 0.01989278615520005\n",
      "\u001b[1;35mStep \u001b[0m\u001b[1;36mmodel_evaluation_3\u001b[1;35m has finished in \u001b[0m\u001b[1;36m0.153s\u001b[1;35m.\u001b[0m\n",
      "\u001b[1;35mStep \u001b[0m\u001b[1;36mmodel_evaluation_4\u001b[1;35m has started.\u001b[0m\n",
      "RMSE: 0.07224848063999996\n",
      "\u001b[1;35mStep \u001b[0m\u001b[1;36mmodel_evaluation_4\u001b[1;35m has finished in \u001b[0m\u001b[1;36m0.324s\u001b[1;35m.\u001b[0m\n",
      "\u001b[1;35mPipeline run has finished in \u001b[0m\u001b[1;36m8.703s\u001b[1;35m.\u001b[0m\n"
     ]
    },
    {
     "data": {
      "text/plain": [
       "PipelineRunResponse(body=PipelineRunResponseBody(created=datetime.datetime(2024, 5, 4, 15, 27, 51, 701369), updated=datetime.datetime(2024, 5, 4, 15, 27, 51, 701370), user=UserResponse(body=UserResponseBody(created=datetime.datetime(2024, 4, 20, 15, 40, 21, 431102), updated=datetime.datetime(2024, 4, 20, 15, 40, 21, 431104), active=True, activation_token=None, full_name='', email_opted_in=None, is_service_account=False, is_admin=True), metadata=None, resources=None, id=UUID('3a83a8c5-1f1c-44eb-a17f-c0cd414147d1'), permission_denied=False, name='default'), status=<ExecutionStatus.INITIALIZING: 'initializing'>, stack=StackResponse(body=StackResponseBody(created=datetime.datetime(2024, 4, 20, 15, 40, 20, 993137), updated=datetime.datetime(2024, 4, 20, 15, 40, 20, 993137), user=None), metadata=None, resources=None, id=UUID('8b2d75d6-14de-474a-9651-5a34bd521e2c'), permission_denied=False, name='default'), pipeline=PipelineResponse(body=PipelineResponseBody(created=datetime.datetime(2024, 5, 4, 15, 27, 51, 354744), updated=datetime.datetime(2024, 5, 4, 15, 27, 51, 354747), user=UserResponse(body=UserResponseBody(created=datetime.datetime(2024, 4, 20, 15, 40, 21, 431102), updated=datetime.datetime(2024, 4, 20, 15, 40, 21, 431104), active=True, activation_token=None, full_name='', email_opted_in=None, is_service_account=False, is_admin=True), metadata=None, resources=None, id=UUID('3a83a8c5-1f1c-44eb-a17f-c0cd414147d1'), permission_denied=False, name='default'), status=[<ExecutionStatus.INITIALIZING: 'initializing'>], version='3'), metadata=None, resources=None, id=UUID('c3414273-b437-4dbb-a346-6bba486f4759'), permission_denied=False, name='SWH Cascade ML Pipeline'), build=None, schedule=None, code_reference=None, deployment_id=UUID('e3f7d267-8aed-4519-8d2c-bd8e86a6bf8d'), trigger_execution=None), metadata=PipelineRunResponseMetadata(workspace=WorkspaceResponse(body=WorkspaceResponseBody(created=datetime.datetime(2024, 4, 20, 15, 40, 20, 981133), updated=datetime.datetime(2024, 4, 20, 15, 40, 20, 981134)), metadata=None, resources=None, id=UUID('0d536f95-116e-40c3-b66a-1de349401a30'), permission_denied=False, name='default'), run_metadata={}, steps={}, config=PipelineConfiguration(enable_cache=False, enable_artifact_metadata=None, enable_artifact_visualization=None, enable_step_logs=None, settings={}, extra={}, failure_hook_source=None, success_hook_source=None, model=None, parameters=None, name='SWH Cascade ML Pipeline'), start_time=datetime.datetime(2024, 5, 4, 15, 27, 51, 699905), end_time=None, client_environment={'environment': 'notebook', 'os': 'mac', 'mac_version': '14.4.1', 'python_version': '3.11.2'}, orchestrator_environment={}, orchestrator_run_id=None), resources=None, id=UUID('69ba9a29-39be-42ba-8a46-8c7e2a9ef881'), permission_denied=False, name='SWH Cascade ML Pipeline-2024_05_04-15_27_51_699898')"
      ]
     },
     "execution_count": 2,
     "metadata": {},
     "output_type": "execute_result"
    }
   ],
   "source": [
    "main_pipeline()"
   ]
  },
  {
   "cell_type": "code",
   "execution_count": null,
   "metadata": {},
   "outputs": [],
   "source": []
  }
 ],
 "metadata": {
  "kernelspec": {
   "display_name": ".venv",
   "language": "python",
   "name": "python3"
  },
  "language_info": {
   "codemirror_mode": {
    "name": "ipython",
    "version": 3
   },
   "file_extension": ".py",
   "mimetype": "text/x-python",
   "name": "python",
   "nbconvert_exporter": "python",
   "pygments_lexer": "ipython3",
   "version": "3.11.2"
  }
 },
 "nbformat": 4,
 "nbformat_minor": 2
}
